{
 "cells": [
  {
   "cell_type": "markdown",
   "metadata": {},
   "source": [
    "# PATIENT MOVEMENT ANALYSIS FOR PARKINSON'S DISEASE SEVERITY PREDICTION\n",
    "\n",
    "### This project is a video classification model for Parkinson's disease severity using gait analysis. "
   ]
  },
  {
   "cell_type": "markdown",
   "metadata": {},
   "source": [
    "## SETUP"
   ]
  },
  {
   "cell_type": "code",
   "execution_count": null,
   "metadata": {},
   "outputs": [],
   "source": [
    "import json\n",
    "import numpy as np\n",
    "from sklearn.model_selection import train_test_split\n",
    "import tensorflow as tf\n",
    "from tensorflow.keras.models import Sequential\n",
    "from tensorflow.keras.layers import Dense, Dropout\n",
    "from sklearn.metrics import classification_report, confusion_matrix\n",
    "import os\n",
    "import cv2\n",
    "from optuna import create_study\n",
    "from optuna.samplers import TPESampler  # Import TPESampler"
   ]
  },
  {
   "cell_type": "markdown",
   "metadata": {},
   "source": [
    "## LOAD KEYPOINTS\n",
    "\n",
    "This function loads the keypoints from the JSON files. It returns the keypoints as a list.<br>\n",
    "<br>\n",
    "The keypoints have been extracted using the AlphaPose pose estimator and the Halpe Full-Body Human Keypoints Dataset."
   ]
  },
  {
   "cell_type": "code",
   "execution_count": null,
   "metadata": {},
   "outputs": [],
   "source": [
    "def load_keypoints_from_json(json_file):\n",
    "    with open(json_file, 'r') as f:\n",
    "        data = json.load(f)\n",
    "\n",
    "    keypoints_list = []\n",
    "    for element in data:\n",
    "        keypoints = np.array(element['keypoints']).reshape(-1, 3)\n",
    "        keypoints_list.append(keypoints)\n",
    "\n",
    "    return keypoints_list"
   ]
  },
  {
   "cell_type": "markdown",
   "metadata": {},
   "source": [
    "## FEATURE EXTRACTION\n",
    "\n",
    "The feature extraction function takes in a list of keypoints as a parameter. <br>\n",
    "\n",
    "The features extracted for Parkinson's disease severity prediction are the following: <br>\n",
    "\n",
    "- Distance between the nose and the approximate center of the feet, indicating posture.\n",
    "- Average confidence score of the wrists, indicating arm steadiness (tremors).\n",
    "- Average distance between the nose and the wrists, indicating arm swing.\n",
    "- Ratio of the distances between the nose and the left and right wrists, indicating arm swing symmetry.\n",
    "- Maximum height of the ankles, indicating step height.\n",
    "- Distance between the left and right ankles, indicating step length."
   ]
  },
  {
   "cell_type": "code",
   "execution_count": null,
   "metadata": {},
   "outputs": [],
   "source": [
    "def extract_features(keypoints_list):\n",
    "    total_nose_to_foot_distance = 0\n",
    "    total_wrist_steadiness = 0\n",
    "    total_nose_to_wrist_distance = 0\n",
    "    total_arm_swing_symmetry = 0\n",
    "    max_ankle_height = 0\n",
    "    total_step_length = 0\n",
    "    num_frames = 0\n",
    "\n",
    "    #indices of keypoints\n",
    "    nose_idx = 0\n",
    "    left_wrist_idx = 9\n",
    "    right_wrist_idx = 10\n",
    "    left_ankle_idx = 15\n",
    "    right_ankle_idx = 16\n",
    "\n",
    "    for keypoints in keypoints_list:\n",
    "        if keypoints.shape[0] < 17:\n",
    "            continue\n",
    "       \n",
    "        nose = keypoints[nose_idx]\n",
    "        left_wrist = keypoints[left_wrist_idx]\n",
    "        right_wrist = keypoints[right_wrist_idx]\n",
    "        left_ankle = keypoints[left_ankle_idx]\n",
    "        right_ankle = keypoints[right_ankle_idx]\n",
    "\n",
    "        # features \n",
    "        nose_to_foot_distance = np.linalg.norm(nose[:2] - ((left_ankle[:2] + right_ankle[:2]) / 2))\n",
    "        wrist_steadiness = np.mean([left_wrist[2], right_wrist[2]])\n",
    "        nose_to_wrist_distance = np.mean([np.linalg.norm(nose[:2] - left_wrist[:2]), np.linalg.norm(nose[:2] - right_wrist[:2])])\n",
    "        arm_swing_symmetry = np.abs(np.linalg.norm(nose[:2] - left_wrist[:2]) / np.linalg.norm(nose[:2] - right_wrist[:2]))\n",
    "        max_ankle_height = np.max([left_ankle[1], right_ankle[1]])\n",
    "        step_length = np.linalg.norm(left_ankle[:2] - right_ankle[:2])\n",
    "\n",
    "        #Update Values\n",
    "        total_nose_to_foot_distance += nose_to_foot_distance\n",
    "        total_wrist_steadiness += wrist_steadiness\n",
    "        total_nose_to_wrist_distance += nose_to_wrist_distance\n",
    "        total_arm_swing_symmetry += arm_swing_symmetry\n",
    "        max_ankle_height = max(max_ankle_height, np.max([left_ankle[1], right_ankle[1]]))\n",
    "        total_step_length += step_length\n",
    "        num_frames += 1\n",
    "\n",
    "    if num_frames > 0:\n",
    "        avg_nose_to_foot_distance = total_nose_to_foot_distance / num_frames\n",
    "        avg_wrist_steadiness = total_wrist_steadiness / num_frames\n",
    "        avg_nose_to_wrist_distance = total_nose_to_wrist_distance / num_frames\n",
    "        avg_arm_swing_symmetry = total_arm_swing_symmetry / num_frames\n",
    "        avg_step_length = total_step_length / num_frames\n",
    "    else:\n",
    "        return None\n",
    "    \n",
    "    return np.array([\n",
    "        avg_nose_to_foot_distance,\n",
    "        avg_wrist_steadiness,\n",
    "        avg_nose_to_wrist_distance,\n",
    "        avg_arm_swing_symmetry,\n",
    "        max_ankle_height,\n",
    "        avg_step_length\n",
    "    ])"
   ]
  },
  {
   "cell_type": "markdown",
   "metadata": {},
   "source": [
    "## LOAD FEATURES\n",
    "\n",
    "This function loads the keypoints from all the json files and calls the extract_features() function on each file. <br>\n",
    "\n",
    "It returns a list of lists of features and a list of their respective labels."
   ]
  },
  {
   "cell_type": "code",
   "execution_count": null,
   "metadata": {},
   "outputs": [],
   "source": [
    "def load_features(data_dir):\n",
    "    features = []\n",
    "    labels = []\n",
    "\n",
    "    for severity in ['NORMAL', 'MILD', 'MODERATE', 'SEVERE']:\n",
    "        dir_path = os.path.join(data_dir, severity)\n",
    "\n",
    "        for json_file in os.listdir(dir_path):\n",
    "            file_path = os.path.join(dir_path, json_file)\n",
    "            keypoints = load_keypoints_from_json(file_path)\n",
    "            #filtered_keypoints = filter_keypoints_by_confidence(keypoints)\n",
    "\n",
    "            if len(keypoints) > 0:\n",
    "                feature = extract_features(keypoints)\n",
    "                if feature is not None:\n",
    "                    features.append(feature)\n",
    "                labels.append(severity)\n",
    "\n",
    "    return np.array(features), np.array(labels)"
   ]
  },
  {
   "cell_type": "markdown",
   "metadata": {},
   "source": [
    "Create model function"
   ]
  },
  {
   "cell_type": "code",
   "execution_count": null,
   "metadata": {},
   "outputs": [],
   "source": [
    "def create_model(n_neurons, dropout_rate):\n",
    "  model = Sequential()\n",
    "  model.add(Dense(n_neurons, input_dim=6, activation='relu'))\n",
    "  model.add(Dropout(dropout_rate))\n",
    "  model.add(Dense(n_neurons, activation='relu'))\n",
    "  model.add(Dropout(dropout_rate))\n",
    "  model.add(Dense(4, activation='softmax'))\n",
    "\n",
    "  model.compile(loss='categorical_crossentropy',\n",
    "                optimizer='adam',\n",
    "                metrics=['accuracy'])\n",
    "\n",
    "  return model\n",
    "\n",
    "\n",
    "features, labels = load_features('JSON/')"
   ]
  },
  {
   "cell_type": "code",
   "execution_count": null,
   "metadata": {},
   "outputs": [],
   "source": [
    "# One-hot encode the labels\n",
    "label_dict = {'NORMAL': 0, 'MILD': 1, 'MODERATE': 2, 'SEVERE': 3}\n",
    "# Use label_dict to convert labels to integers\n",
    "labels = np.array([label_dict[label] for label in labels.flatten()])\n",
    "labels_one_hot = tf.keras.utils.to_categorical(labels, num_classes=4)\n",
    "\n",
    "# Split data into training sets and testing sets\n",
    "X_train, X_test, y_train, y_test = train_test_split(features, labels_one_hot, test_size=0.2, random_state=42)\n"
   ]
  },
  {
   "cell_type": "code",
   "execution_count": null,
   "metadata": {},
   "outputs": [],
   "source": [
    "def objective(trial):\n",
    "  # Suggest hyperparameters using trial object\n",
    "  n_neurons = trial.suggest_int(\"n_neurons\", 32, 128)  # Define search range\n",
    "  dropout_rate = trial.suggest_float(\"dropout_rate\", 0.2, 0.5) \n",
    "\n",
    "  model = create_model(n_neurons, dropout_rate)\n",
    "\n",
    "  model.compile(loss='categorical_crossentropy', optimizer='adam', metrics=['accuracy'])\n",
    "\n",
    "  model.fit(X_train, y_train, epochs=10, validation_data=(X_test, y_test))\n",
    "\n",
    "  _, accuracy = model.evaluate(X_test, y_test)\n",
    "  return accuracy"
   ]
  },
  {
   "cell_type": "code",
   "execution_count": null,
   "metadata": {},
   "outputs": [],
   "source": [
    "\n",
    "\n",
    "study = create_study(direction=\"maximize\") \n"
   ]
  },
  {
   "cell_type": "code",
   "execution_count": null,
   "metadata": {},
   "outputs": [],
   "source": [
    "study.optimize(objective, n_trials=100)"
   ]
  },
  {
   "cell_type": "code",
   "execution_count": null,
   "metadata": {},
   "outputs": [],
   "source": [
    "best_trial = study.best_trial\n",
    "best_params = best_trial.params"
   ]
  },
  {
   "cell_type": "code",
   "execution_count": null,
   "metadata": {},
   "outputs": [],
   "source": [
    "model = create_model(best_params[\"n_neurons\"], best_params[\"dropout_rate\"])\n",
    "model.fit(X_train, y_train, epochs=10, validation_data=(X_test, y_test))"
   ]
  },
  {
   "cell_type": "markdown",
   "metadata": {},
   "source": [
    "Train the model"
   ]
  },
  {
   "cell_type": "markdown",
   "metadata": {},
   "source": [
    "Evaluate the model"
   ]
  },
  {
   "cell_type": "code",
   "execution_count": null,
   "metadata": {},
   "outputs": [],
   "source": [
    "# Evaluate the model\n",
    "scores = model.evaluate(X_test, y_test, verbose=0)\n",
    "print(\"CNN Error: %.2f%%\" % (100-scores[1]*100))\n",
    "\n",
    "# Predict the testing set\n",
    "y_pred = np.argmax(model.predict(X_test), axis=-1)\n",
    "y_test = np.argmax(y_test, axis=-1)\n",
    "\n",
    "# Print classification report and confusion matrix\n",
    "print(classification_report(y_test, y_pred))\n",
    "print(confusion_matrix(y_test, y_pred))"
   ]
  },
  {
   "cell_type": "code",
   "execution_count": null,
   "metadata": {},
   "outputs": [],
   "source": [
    "def predict_single_instance(json_file, model):\n",
    "  \"\"\"\n",
    "  Loads keypoints from a JSON file, extracts features, and predicts the severity class.\n",
    "\n",
    "  Args:\n",
    "      json_file: Path to the JSON file containing keypoints.\n",
    "      model: Trained model for prediction.\n",
    "\n",
    "  Returns:\n",
    "      Predicted severity class (string).\n",
    "  \"\"\"\n",
    "  # Load keypoints from JSON\n",
    "  keypoints = load_keypoints_from_json(json_file)\n",
    "\n",
    "  # Extract features from keypoints\n",
    "  features = extract_features(keypoints)\n",
    "\n",
    "  # Ensure features are extracted successfully\n",
    "  if features is None:\n",
    "      return \"Failed to extract features\"\n",
    "\n",
    "  # Reshape features for model prediction (might be necessary)\n",
    "  features = np.expand_dims(features, axis=0)  # Add an extra dimension for batch size\n",
    "\n",
    "  # Predict class probabilities\n",
    "  predictions = model.predict(features)\n",
    "\n",
    "  # Get the predicted class index with the highest probability\n",
    "  predicted_class_index = np.argmax(predictions, axis=1)[0]\n",
    "\n",
    "  # Convert class index to severity label using the label dictionary\n",
    "  predicted_class = list(label_dict.keys())[predicted_class_index]\n",
    "\n",
    "  return predicted_class\n",
    "\n",
    "# Example usage (replace 'path/to/your/file.json' with your actual file path)\n",
    "new_data_file = \"results.json\"\n",
    "predicted_severity = predict_single_instance(new_data_file, model)\n",
    "print(f\"Predicted severity for {new_data_file}: {predicted_severity}\")"
   ]
  },
  {
   "cell_type": "markdown",
   "metadata": {},
   "source": [
    "## Video Analysis with OpenCV"
   ]
  },
  {
   "cell_type": "code",
   "execution_count": null,
   "metadata": {},
   "outputs": [],
   "source": []
  }
 ],
 "metadata": {
  "kernelspec": {
   "display_name": "Python 3",
   "language": "python",
   "name": "python3"
  },
  "language_info": {
   "codemirror_mode": {
    "name": "ipython",
    "version": 3
   },
   "file_extension": ".py",
   "mimetype": "text/x-python",
   "name": "python",
   "nbconvert_exporter": "python",
   "pygments_lexer": "ipython3",
   "version": "3.12.3"
  }
 },
 "nbformat": 4,
 "nbformat_minor": 2
}
