{
 "cells": [
  {
   "cell_type": "markdown",
   "metadata": {},
   "source": [
    "# PATIENT MOVEMENT ANALYSIS FOR PARKINSON'S DISEASE SEVERITY PREDICTION\n",
    "\n",
    "### This project is a video classification model for Parkinson's disease severity using gait analysis. "
   ]
  },
  {
   "cell_type": "markdown",
   "metadata": {},
   "source": [
    "## SETUP"
   ]
  },
  {
   "cell_type": "code",
   "execution_count": 74,
   "metadata": {},
   "outputs": [],
   "source": [
    "import json\n",
    "import numpy as np\n",
    "from sklearn.model_selection import train_test_split\n",
    "import tensorflow as tf\n",
    "from tensorflow.keras.models import Sequential\n",
    "from tensorflow.keras.layers import Dense, Dropout\n",
    "from sklearn.metrics import classification_report, confusion_matrix\n",
    "import os\n",
    "import cv2"
   ]
  },
  {
   "cell_type": "markdown",
   "metadata": {},
   "source": [
    "## LOAD KEYPOINTS\n",
    "\n",
    "This function loads the keypoints from the JSON files. It returns the keypoints as a list.<br>\n",
    "<br>\n",
    "The keypoints have been extracted using the AlphaPose pose estimator and the Halpe Full-Body Human Keypoints Dataset."
   ]
  },
  {
   "cell_type": "code",
   "execution_count": 75,
   "metadata": {},
   "outputs": [],
   "source": [
    "def load_keypoints_from_json(json_file):\n",
    "    with open(json_file, 'r') as f:\n",
    "        data = json.load(f)\n",
    "\n",
    "    keypoints_list = []\n",
    "    for element in data:\n",
    "        keypoints = np.array(element['keypoints']).reshape(-1, 3)\n",
    "        keypoints_list.append(keypoints)\n",
    "\n",
    "    return keypoints_list"
   ]
  },
  {
   "cell_type": "markdown",
   "metadata": {},
   "source": [
    "## FEATURE EXTRACTION\n",
    "\n",
    "The feature extraction function takes in a list of keypoints as a parameter. <br>\n",
    "\n",
    "The features extracted for Parkinson's disease severity prediction are the following: <br>\n",
    "\n",
    "- Distance between the nose and the approximate center of the feet, indicating posture.\n",
    "- Average confidence score of the wrists, indicating arm steadiness (tremors).\n",
    "- Average distance between the nose and the wrists, indicating arm swing.\n",
    "- Ratio of the distances between the nose and the left and right wrists, indicating arm swing symmetry.\n",
    "- Maximum height of the ankles, indicating step height.\n",
    "- Distance between the left and right ankles, indicating step length."
   ]
  },
  {
   "cell_type": "code",
   "execution_count": 76,
   "metadata": {},
   "outputs": [],
   "source": [
    "def extract_features(keypoints_list):\n",
    "    total_nose_to_foot_distance = 0\n",
    "    total_wrist_steadiness = 0\n",
    "    total_nose_to_wrist_distance = 0\n",
    "    total_arm_swing_symmetry = 0\n",
    "    max_ankle_height = 0\n",
    "    total_step_length = 0\n",
    "    num_frames = 0\n",
    "\n",
    "    #indices of keypoints\n",
    "    nose_idx = 0\n",
    "    left_wrist_idx = 9\n",
    "    right_wrist_idx = 10\n",
    "    left_ankle_idx = 15\n",
    "    right_ankle_idx = 16\n",
    "\n",
    "    for keypoints in keypoints_list:\n",
    "        if keypoints.shape[0] < 17:\n",
    "            continue\n",
    "       \n",
    "        nose = keypoints[nose_idx]\n",
    "        left_wrist = keypoints[left_wrist_idx]\n",
    "        right_wrist = keypoints[right_wrist_idx]\n",
    "        left_ankle = keypoints[left_ankle_idx]\n",
    "        right_ankle = keypoints[right_ankle_idx]\n",
    "\n",
    "        # features \n",
    "        nose_to_foot_distance = np.linalg.norm(nose[:2] - ((left_ankle[:2] + right_ankle[:2]) / 2))\n",
    "        wrist_steadiness = np.mean([left_wrist[2], right_wrist[2]])\n",
    "        nose_to_wrist_distance = np.mean([np.linalg.norm(nose[:2] - left_wrist[:2]), np.linalg.norm(nose[:2] - right_wrist[:2])])\n",
    "        arm_swing_symmetry = np.abs(np.linalg.norm(nose[:2] - left_wrist[:2]) / np.linalg.norm(nose[:2] - right_wrist[:2]))\n",
    "        max_ankle_height = np.max([left_ankle[1], right_ankle[1]])\n",
    "        step_length = np.linalg.norm(left_ankle[:2] - right_ankle[:2])\n",
    "\n",
    "        #Update Values\n",
    "        total_nose_to_foot_distance += nose_to_foot_distance\n",
    "        total_wrist_steadiness += wrist_steadiness\n",
    "        total_nose_to_wrist_distance += nose_to_wrist_distance\n",
    "        total_arm_swing_symmetry += arm_swing_symmetry\n",
    "        max_ankle_height = max(max_ankle_height, np.max([left_ankle[1], right_ankle[1]]))\n",
    "        total_step_length += step_length\n",
    "        num_frames += 1\n",
    "\n",
    "    if num_frames > 0:\n",
    "        avg_nose_to_foot_distance = total_nose_to_foot_distance / num_frames\n",
    "        avg_wrist_steadiness = total_wrist_steadiness / num_frames\n",
    "        avg_nose_to_wrist_distance = total_nose_to_wrist_distance / num_frames\n",
    "        avg_arm_swing_symmetry = total_arm_swing_symmetry / num_frames\n",
    "        avg_step_length = total_step_length / num_frames\n",
    "    else:\n",
    "        return None\n",
    "    \n",
    "    return np.array([\n",
    "        avg_nose_to_foot_distance,\n",
    "        avg_wrist_steadiness,\n",
    "        avg_nose_to_wrist_distance,\n",
    "        avg_arm_swing_symmetry,\n",
    "        max_ankle_height,\n",
    "        avg_step_length\n",
    "    ])"
   ]
  },
  {
   "cell_type": "markdown",
   "metadata": {},
   "source": [
    "## LOAD FEATURES\n",
    "\n",
    "This function loads the keypoints from all the json files and calls the extract_features() function on each file. <br>\n",
    "\n",
    "It returns a list of lists of features and a list of their respective labels."
   ]
  },
  {
   "cell_type": "code",
   "execution_count": 77,
   "metadata": {},
   "outputs": [],
   "source": [
    "def load_features(data_dir):\n",
    "    features = []\n",
    "    labels = []\n",
    "\n",
    "    for severity in ['NORMAL', 'MILD', 'MODERATE', 'SEVERE']:\n",
    "        dir_path = os.path.join(data_dir, severity)\n",
    "\n",
    "        for json_file in os.listdir(dir_path):\n",
    "            file_path = os.path.join(dir_path, json_file)\n",
    "            keypoints = load_keypoints_from_json(file_path)\n",
    "            #filtered_keypoints = filter_keypoints_by_confidence(keypoints)\n",
    "\n",
    "            if len(keypoints) > 0:\n",
    "                feature = extract_features(keypoints)\n",
    "                if feature is not None:\n",
    "                    features.append(feature)\n",
    "                labels.append(severity)\n",
    "\n",
    "    return np.array(features), np.array(labels)"
   ]
  },
  {
   "cell_type": "markdown",
   "metadata": {},
   "source": [
    "Create model function"
   ]
  },
  {
   "cell_type": "code",
   "execution_count": 78,
   "metadata": {},
   "outputs": [],
   "source": [
    "def create_model():\n",
    "    model = Sequential()\n",
    "    model.add(Dense(64, input_dim=6, activation='relu'))\n",
    "    model.add(Dropout(0.5))\n",
    "    model.add(Dense(64, activation='relu'))\n",
    "    model.add(Dropout(0.5))\n",
    "    model.add(Dense(4, activation='softmax'))\n",
    "\n",
    "    model.compile(loss='categorical_crossentropy',\n",
    "                  optimizer='adam',\n",
    "                  metrics=['accuracy'])\n",
    "\n",
    "    return model\n",
    "\n",
    "features, labels = load_features('./JSON/')\n",
    "label_dict = {'NORMAL': 0, 'MILD': 1, 'MODERATE': 2, 'SEVERE': 3}"
   ]
  },
  {
   "cell_type": "markdown",
   "metadata": {},
   "source": [
    "Train the model"
   ]
  },
  {
   "cell_type": "code",
   "execution_count": 79,
   "metadata": {},
   "outputs": [
    {
     "name": "stdout",
     "output_type": "stream",
     "text": [
      "Epoch 1/10\n"
     ]
    },
    {
     "name": "stderr",
     "output_type": "stream",
     "text": [
      "/Library/Frameworks/Python.framework/Versions/3.12/lib/python3.12/site-packages/keras/src/layers/core/dense.py:87: UserWarning: Do not pass an `input_shape`/`input_dim` argument to a layer. When using Sequential models, prefer using an `Input(shape)` object as the first layer in the model instead.\n",
      "  super().__init__(activity_regularizer=activity_regularizer, **kwargs)\n"
     ]
    },
    {
     "name": "stdout",
     "output_type": "stream",
     "text": [
      "\u001b[1m8/8\u001b[0m \u001b[32m━━━━━━━━━━━━━━━━━━━━\u001b[0m\u001b[37m\u001b[0m \u001b[1m0s\u001b[0m 7ms/step - accuracy: 0.2703 - loss: 54.2350 - val_accuracy: 0.5424 - val_loss: 19.4028\n",
      "Epoch 2/10\n",
      "\u001b[1m8/8\u001b[0m \u001b[32m━━━━━━━━━━━━━━━━━━━━\u001b[0m\u001b[37m\u001b[0m \u001b[1m0s\u001b[0m 1ms/step - accuracy: 0.3442 - loss: 41.6895 - val_accuracy: 0.5424 - val_loss: 19.4581\n",
      "Epoch 3/10\n",
      "\u001b[1m8/8\u001b[0m \u001b[32m━━━━━━━━━━━━━━━━━━━━\u001b[0m\u001b[37m\u001b[0m \u001b[1m0s\u001b[0m 1ms/step - accuracy: 0.3515 - loss: 42.7195 - val_accuracy: 0.5424 - val_loss: 14.7524\n",
      "Epoch 4/10\n",
      "\u001b[1m8/8\u001b[0m \u001b[32m━━━━━━━━━━━━━━━━━━━━\u001b[0m\u001b[37m\u001b[0m \u001b[1m0s\u001b[0m 1ms/step - accuracy: 0.3653 - loss: 33.7529 - val_accuracy: 0.5085 - val_loss: 10.8361\n",
      "Epoch 5/10\n",
      "\u001b[1m8/8\u001b[0m \u001b[32m━━━━━━━━━━━━━━━━━━━━\u001b[0m\u001b[37m\u001b[0m \u001b[1m0s\u001b[0m 1ms/step - accuracy: 0.3583 - loss: 29.2573 - val_accuracy: 0.4915 - val_loss: 8.7254\n",
      "Epoch 6/10\n",
      "\u001b[1m8/8\u001b[0m \u001b[32m━━━━━━━━━━━━━━━━━━━━\u001b[0m\u001b[37m\u001b[0m \u001b[1m0s\u001b[0m 1ms/step - accuracy: 0.3670 - loss: 21.5512 - val_accuracy: 0.4407 - val_loss: 8.0100\n",
      "Epoch 7/10\n",
      "\u001b[1m8/8\u001b[0m \u001b[32m━━━━━━━━━━━━━━━━━━━━\u001b[0m\u001b[37m\u001b[0m \u001b[1m0s\u001b[0m 1ms/step - accuracy: 0.3255 - loss: 19.8770 - val_accuracy: 0.4746 - val_loss: 8.6526\n",
      "Epoch 8/10\n",
      "\u001b[1m8/8\u001b[0m \u001b[32m━━━━━━━━━━━━━━━━━━━━\u001b[0m\u001b[37m\u001b[0m \u001b[1m0s\u001b[0m 1ms/step - accuracy: 0.3870 - loss: 20.9828 - val_accuracy: 0.4746 - val_loss: 8.1852\n",
      "Epoch 9/10\n",
      "\u001b[1m8/8\u001b[0m \u001b[32m━━━━━━━━━━━━━━━━━━━━\u001b[0m\u001b[37m\u001b[0m \u001b[1m0s\u001b[0m 1ms/step - accuracy: 0.3816 - loss: 19.2498 - val_accuracy: 0.4576 - val_loss: 7.2753\n",
      "Epoch 10/10\n",
      "\u001b[1m8/8\u001b[0m \u001b[32m━━━━━━━━━━━━━━━━━━━━\u001b[0m\u001b[37m\u001b[0m \u001b[1m0s\u001b[0m 1ms/step - accuracy: 0.3723 - loss: 14.9478 - val_accuracy: 0.4746 - val_loss: 5.4223\n"
     ]
    },
    {
     "data": {
      "text/plain": [
       "<keras.src.callbacks.history.History at 0x3112d2b40>"
      ]
     },
     "execution_count": 79,
     "metadata": {},
     "output_type": "execute_result"
    }
   ],
   "source": [
    "# One-hot encode the labels\n",
    "label_dict = {'NORMAL': 0, 'MILD': 1, 'MODERATE': 2, 'SEVERE': 3}\n",
    "labels = labels.flatten().astype(str) \n",
    "labels = [label_dict[l] for l in labels]\n",
    "labels = tf.keras.utils.to_categorical(labels)\n",
    "labels_one_hot = np.array(labels)\n",
    "# Split data into training sets and testing sets\n",
    "X_train, X_test, y_train, y_test = train_test_split(features, labels_one_hot, test_size=0.2, random_state=42)\n",
    "\n",
    "\n",
    "# Create model\n",
    "model = create_model()\n",
    "\n",
    "# Train the model\n",
    "model.fit(X_train, y_train,\n",
    "          batch_size=32,\n",
    "          epochs=10,\n",
    "          verbose=1,\n",
    "          validation_data=(X_test, y_test))"
   ]
  },
  {
   "cell_type": "markdown",
   "metadata": {},
   "source": [
    "Evaluate the model"
   ]
  },
  {
   "cell_type": "code",
   "execution_count": 80,
   "metadata": {},
   "outputs": [
    {
     "name": "stdout",
     "output_type": "stream",
     "text": [
      "CNN Error: 52.54%\n",
      "WARNING:tensorflow:5 out of the last 5 calls to <function TensorFlowTrainer.make_predict_function.<locals>.one_step_on_data_distributed at 0x31c146b60> triggered tf.function retracing. Tracing is expensive and the excessive number of tracings could be due to (1) creating @tf.function repeatedly in a loop, (2) passing tensors with different shapes, (3) passing Python objects instead of tensors. For (1), please define your @tf.function outside of the loop. For (2), @tf.function has reduce_retracing=True option that can avoid unnecessary retracing. For (3), please refer to https://www.tensorflow.org/guide/function#controlling_retracing and https://www.tensorflow.org/api_docs/python/tf/function for  more details.\n",
      "\u001b[1m1/2\u001b[0m \u001b[32m━━━━━━━━━━\u001b[0m\u001b[37m━━━━━━━━━━\u001b[0m \u001b[1m0s\u001b[0m 17ms/stepWARNING:tensorflow:6 out of the last 6 calls to <function TensorFlowTrainer.make_predict_function.<locals>.one_step_on_data_distributed at 0x31c146b60> triggered tf.function retracing. Tracing is expensive and the excessive number of tracings could be due to (1) creating @tf.function repeatedly in a loop, (2) passing tensors with different shapes, (3) passing Python objects instead of tensors. For (1), please define your @tf.function outside of the loop. For (2), @tf.function has reduce_retracing=True option that can avoid unnecessary retracing. For (3), please refer to https://www.tensorflow.org/guide/function#controlling_retracing and https://www.tensorflow.org/api_docs/python/tf/function for  more details.\n",
      "\u001b[1m2/2\u001b[0m \u001b[32m━━━━━━━━━━━━━━━━━━━━\u001b[0m\u001b[37m\u001b[0m \u001b[1m0s\u001b[0m 10ms/step\n",
      "              precision    recall  f1-score   support\n",
      "\n",
      "           0       0.72      0.66      0.69        32\n",
      "           1       0.00      0.00      0.00         7\n",
      "           2       0.23      0.88      0.37         8\n",
      "           3       0.00      0.00      0.00        12\n",
      "\n",
      "    accuracy                           0.47        59\n",
      "   macro avg       0.24      0.38      0.26        59\n",
      "weighted avg       0.42      0.47      0.42        59\n",
      "\n",
      "[[21  0 11  0]\n",
      " [ 3  0  4  0]\n",
      " [ 1  0  7  0]\n",
      " [ 4  0  8  0]]\n"
     ]
    },
    {
     "name": "stderr",
     "output_type": "stream",
     "text": [
      "/Library/Frameworks/Python.framework/Versions/3.12/lib/python3.12/site-packages/sklearn/metrics/_classification.py:1509: UndefinedMetricWarning: Precision is ill-defined and being set to 0.0 in labels with no predicted samples. Use `zero_division` parameter to control this behavior.\n",
      "  _warn_prf(average, modifier, f\"{metric.capitalize()} is\", len(result))\n",
      "/Library/Frameworks/Python.framework/Versions/3.12/lib/python3.12/site-packages/sklearn/metrics/_classification.py:1509: UndefinedMetricWarning: Precision is ill-defined and being set to 0.0 in labels with no predicted samples. Use `zero_division` parameter to control this behavior.\n",
      "  _warn_prf(average, modifier, f\"{metric.capitalize()} is\", len(result))\n",
      "/Library/Frameworks/Python.framework/Versions/3.12/lib/python3.12/site-packages/sklearn/metrics/_classification.py:1509: UndefinedMetricWarning: Precision is ill-defined and being set to 0.0 in labels with no predicted samples. Use `zero_division` parameter to control this behavior.\n",
      "  _warn_prf(average, modifier, f\"{metric.capitalize()} is\", len(result))\n"
     ]
    }
   ],
   "source": [
    "# Evaluate the model\n",
    "scores = model.evaluate(X_test, y_test, verbose=0)\n",
    "print(\"CNN Error: %.2f%%\" % (100-scores[1]*100))\n",
    "\n",
    "# Predict the testing set\n",
    "y_pred = np.argmax(model.predict(X_test), axis=-1)\n",
    "y_test = np.argmax(y_test, axis=-1)\n",
    "\n",
    "# Print classification report and confusion matrix\n",
    "print(classification_report(y_test, y_pred))\n",
    "print(confusion_matrix(y_test, y_pred))"
   ]
  },
  {
   "cell_type": "markdown",
   "metadata": {},
   "source": [
    "## Video Analysis with OpenCV"
   ]
  },
  {
   "cell_type": "code",
   "execution_count": null,
   "metadata": {},
   "outputs": [],
   "source": []
  }
 ],
 "metadata": {
  "kernelspec": {
   "display_name": "Python 3",
   "language": "python",
   "name": "python3"
  },
  "language_info": {
   "codemirror_mode": {
    "name": "ipython",
    "version": 3
   },
   "file_extension": ".py",
   "mimetype": "text/x-python",
   "name": "python",
   "nbconvert_exporter": "python",
   "pygments_lexer": "ipython3",
   "version": "3.12.3"
  }
 },
 "nbformat": 4,
 "nbformat_minor": 2
}
